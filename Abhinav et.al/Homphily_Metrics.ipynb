{
  "nbformat": 4,
  "nbformat_minor": 0,
  "metadata": {
    "colab": {
      "provenance": []
    },
    "kernelspec": {
      "name": "python3",
      "display_name": "Python 3"
    },
    "language_info": {
      "name": "python"
    }
  },
  "cells": [
    {
      "cell_type": "code",
      "source": [
        "import numpy as np\n",
        "from collections import defaultdict\n",
        "from scipy.stats import entropy\n",
        "from collections import Counter\n",
        "dataset = 'roman_empire'"
      ],
      "metadata": {
        "id": "Gd719zh8LNIh"
      },
      "execution_count": null,
      "outputs": []
    },
    {
      "cell_type": "code",
      "source": [
        "def load_data(file_path):\n",
        "    data = np.load(file_path, allow_pickle=True)\n",
        "    edges = data['edges']\n",
        "    node_labels = data['node_labels']\n",
        "    data.close()\n",
        "    return edges, node_labels\n",
        "\n",
        "file_path = f'./{dataset}.npz'"
      ],
      "metadata": {
        "id": "W5g-oasxMIXm"
      },
      "execution_count": null,
      "outputs": []
    },
    {
      "cell_type": "code",
      "source": [
        "#Node Homophily\n",
        "def node_homophily(edges, node_labels):\n",
        "    neighbors = defaultdict(set)\n",
        "    homophily_ratios = []\n",
        "\n",
        "    # Build a dictionary of neighbors for each node\n",
        "    for edge in edges:\n",
        "        neighbors[edge[0]].add(edge[1])\n",
        "        neighbors[edge[1]].add(edge[0])\n",
        "\n",
        "    # Calculate homophily for each node\n",
        "    for node, node_neighbors in neighbors.items():\n",
        "        if node_neighbors:  # Avoid division by zero\n",
        "            same_label_count = sum(node_labels[neighbor] == node_labels[node] for neighbor in node_neighbors)\n",
        "            homophily_ratio = same_label_count / len(node_neighbors)\n",
        "            homophily_ratios.append(homophily_ratio)\n",
        "\n",
        "    # Return the average homophily\n",
        "    return np.mean(homophily_ratios)\n",
        "\n",
        "\n",
        "edges, node_labels = load_data(file_path)\n",
        "homophily_ratio_node = node_homophily(edges, node_labels)\n",
        "print(f\"Node Homophily Ratio for {dataset} : {homophily_ratio_node}\")"
      ],
      "metadata": {
        "colab": {
          "base_uri": "https://localhost:8080/"
        },
        "id": "bMKXiELRL9iq",
        "outputId": "4aec4fb4-8c3e-47d3-d4df-6a047abf75f7"
      },
      "execution_count": null,
      "outputs": [
        {
          "output_type": "stream",
          "name": "stdout",
          "text": [
            "Node Homophily Ratio for roman_empire : 0.046047879669139924\n"
          ]
        }
      ]
    },
    {
      "cell_type": "code",
      "execution_count": null,
      "metadata": {
        "colab": {
          "base_uri": "https://localhost:8080/"
        },
        "id": "VK-XeythKWVJ",
        "outputId": "c13d60b0-e977-49f7-b902-8b6edaa9e110"
      },
      "outputs": [
        {
          "output_type": "stream",
          "name": "stdout",
          "text": [
            "Edge Homophily Ratio for roman_empire : 0.04689160871017706\n"
          ]
        }
      ],
      "source": [
        "#Edge Homophily\n",
        "def edge_homophily(edges, node_labels):\n",
        "    same_label_count = 0\n",
        "    total_edges = edges.shape[0]\n",
        "\n",
        "    for edge in edges:\n",
        "        if node_labels[edge[0]] == node_labels[edge[1]]:\n",
        "            same_label_count += 1\n",
        "\n",
        "    return same_label_count / total_edges\n",
        "\n",
        "edges, node_labels = load_data(file_path)\n",
        "homophily_ratio_edge = edge_homophily(edges, node_labels)\n",
        "print(f\"Edge Homophily Ratio for {dataset} : {homophily_ratio_edge}\")\n"
      ]
    },
    {
      "cell_type": "code",
      "source": [
        "#Adjusted Homophily\n",
        "def calculate_degree_sums(node_labels, edges):\n",
        "    degree_sums = defaultdict(int)\n",
        "    for edge in edges:\n",
        "        degree_sums[node_labels[edge[0]]] += 1\n",
        "        degree_sums[node_labels[edge[1]]] += 1\n",
        "    return degree_sums\n",
        "\n",
        "def calculate_adjusted_homophily(node_labels, edges):\n",
        "    hedge = edge_homophily(edges, node_labels)\n",
        "    degree_sums = calculate_degree_sums(node_labels, edges)\n",
        "    total_edges = len(edges)\n",
        "    sum_dk_squared = sum((dk**2 for dk in degree_sums.values())) / (2 * total_edges)**2\n",
        "    hadj = (hedge - sum_dk_squared) / (1 - sum_dk_squared)\n",
        "    return hadj\n",
        "\n",
        "edges, node_labels = load_data(file_path)\n",
        "adjusted_homophily = calculate_adjusted_homophily(node_labels, edges)\n",
        "print(f\"Adjusted Homophily for {dataset} : {adjusted_homophily}\")"
      ],
      "metadata": {
        "colab": {
          "base_uri": "https://localhost:8080/"
        },
        "id": "-VI4LNV9Obc9",
        "outputId": "52d82085-128a-4e26-8900-847dcc0f15d7"
      },
      "execution_count": null,
      "outputs": [
        {
          "output_type": "stream",
          "name": "stdout",
          "text": [
            "Adjusted Homophily for roman_empire : -0.046757752048503035\n"
          ]
        }
      ]
    }
  ]
}